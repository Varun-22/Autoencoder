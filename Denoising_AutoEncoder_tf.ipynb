{
  "nbformat": 4,
  "nbformat_minor": 0,
  "metadata": {
    "colab": {
      "name": "Denoising AutoEncoder.ipynb",
      "provenance": []
    },
    "kernelspec": {
      "name": "python3",
      "display_name": "Python 3"
    }
  },
  "cells": [
    {
      "cell_type": "code",
      "metadata": {
        "id": "mmc1OoB1zF08",
        "colab_type": "code",
        "colab": {}
      },
      "source": [
        "from __future__ import division, print_function, absolute_import\n",
        "import matplotlib.pyplot as plt\n",
        "import tensorflow as tf\n",
        "import numpy as np\n",
        "from sklearn.metrics import confusion_matrix\n",
        "import time\n",
        "from datetime import timedelta\n",
        "import math\n",
        "%matplotlib inline"
      ],
      "execution_count": 0,
      "outputs": []
    },
    {
      "cell_type": "code",
      "metadata": {
        "id": "SzaMDjDzzSpq",
        "colab_type": "code",
        "colab": {}
      },
      "source": [
        "from tensorflow.contrib.learn.python.learn.datasets.mnist import read_data_sets\n",
        "data = read_data_sets(\"data\", one_hot=True)\n",
        "\n",
        "print(\"Size of:\")\n",
        "print(\"- Training-set:\\t\\t{}\".format(len(data.train.labels))) # here \"\\t\" is for tab\n",
        "print(\"- Test-set:\\t\\t{}\".format(len(data.test.labels)))\n",
        "print(\"- Validation-set:\\t{}\".format(len(data.validation.labels)))"
      ],
      "execution_count": 0,
      "outputs": []
    },
    {
      "cell_type": "code",
      "metadata": {
        "id": "bFtxBEHdpnpH",
        "colab_type": "code",
        "colab": {}
      },
      "source": [
        "batch = data.train.next_batch(10)"
      ],
      "execution_count": 0,
      "outputs": []
    },
    {
      "cell_type": "code",
      "metadata": {
        "id": "l2v_XEKCpti2",
        "colab_type": "code",
        "outputId": "90cbafa0-097c-4db8-9702-be07d01531e8",
        "colab": {
          "base_uri": "https://localhost:8080/",
          "height": 34
        }
      },
      "source": [
        "np.shape(batch[1])"
      ],
      "execution_count": 0,
      "outputs": [
        {
          "output_type": "execute_result",
          "data": {
            "text/plain": [
              "(10, 10)"
            ]
          },
          "metadata": {
            "tags": []
          },
          "execution_count": 4
        }
      ]
    },
    {
      "cell_type": "code",
      "metadata": {
        "id": "BzNwdpXMzWx-",
        "colab_type": "code",
        "colab": {}
      },
      "source": [
        "# Function for declaring weight variable\n",
        "def new_weights(shape):\n",
        "    return tf.Variable(tf.truncated_normal(shape, stddev=0.05))\n",
        "# Here \"tf.truncated_normal\" function returns the graph random values from a truncated normal distribution with a given standard deviation\n",
        "# and \"tf.Variable\" fucntion returns the graph of variables, Here "
      ],
      "execution_count": 0,
      "outputs": []
    },
    {
      "cell_type": "code",
      "metadata": {
        "id": "tgP88U5EzcSK",
        "colab_type": "code",
        "colab": {}
      },
      "source": [
        "# Function for declaring Bias variable\n",
        "def new_biases(length):\n",
        "    return tf.Variable(tf.constant(0.05, shape=[length]))"
      ],
      "execution_count": 0,
      "outputs": []
    },
    {
      "cell_type": "code",
      "metadata": {
        "id": "0Yscv7UWzeyL",
        "colab_type": "code",
        "colab": {}
      },
      "source": [
        "def new_encod_layer(input,             # The previous layer.\n",
        "                   num_input_channels, # Num. channels in prev. layer.\n",
        "                   filter_size,        # Width and height of each filter(or weights).\n",
        "                   num_filters,        # Number of filters./ or ouput channel\n",
        "                   use_pooling=True):  # Use 2x2 max-pooling.\n",
        "\n",
        "    # Shape of the filter-weights for the convolution.\n",
        "    shape = [filter_size, filter_size, num_input_channels, num_filters]\n",
        "\n",
        "    # Create new weights aka. filters with the given shape.\n",
        "    weights = new_weights(shape=shape)\n",
        "\n",
        "    # Create new biases, one for each filter.\n",
        "    biases = new_biases(length=num_filters)\n",
        "    # The convolutional layer\n",
        "    layer = tf.nn.conv2d(input=input,\n",
        "                         filter=weights,\n",
        "                         strides=[1, 1, 1, 1],\n",
        "                         padding='SAME')\n",
        "    \n",
        "    # Add the biases to the results of the convolution.\n",
        "    layer += biases\n",
        "\n",
        "    # Use pooling to down-sample the image resolution?\n",
        "    if use_pooling:\n",
        "        # This is 2x2 max-pooling, which means that we\n",
        "        layer = tf.nn.max_pool(value=layer,\n",
        "                               ksize=[1, 2, 2, 1],\n",
        "                               strides=[1, 2, 2, 1],\n",
        "                               padding='SAME')\n",
        "    layer = tf.nn.relu(layer)\n",
        "\n",
        "    return layer, weights\n"
      ],
      "execution_count": 0,
      "outputs": []
    },
    {
      "cell_type": "code",
      "metadata": {
        "id": "mqczkSTyzhkA",
        "colab_type": "code",
        "colab": {}
      },
      "source": [
        "def new_decod_layer(input,             # The previous layer.\n",
        "                   num_input_channels, # Num. channels in prev. layer.\n",
        "                   filter_size,        # Width and height of each filter(or weights)\n",
        "                   num_filters,        # Number of filters./ No of output channel\n",
        "                   upsample_size,      # Upsampling size\n",
        "                   use_upsampling=True):\n",
        "\n",
        "  \n",
        "    shape = [filter_size, filter_size, num_input_channels, num_filters]\n",
        "\n",
        "    # Create new weights aka. filters with the given shape.\n",
        "    weights = new_weights(shape=shape)\n",
        "   \n",
        "    # Create new biases, one for each filter.\n",
        "    biases = new_biases(length=num_filters)\n",
        "   \n",
        "    if use_upsampling:\n",
        "        Upsam=tf.image.resize_images(input, size=(upsample_size,upsample_size), method=tf.image.ResizeMethod.NEAREST_NEIGHBOR)\n",
        "        \n",
        "        \n",
        "    layer = tf.nn.conv2d(input=Upsam,\n",
        "                         filter=weights,\n",
        "                         strides=[1, 1, 1, 1],\n",
        "                         padding='SAME')\n",
        "\n",
        "    layer += biases\n",
        "\n",
        "    layer = tf.nn.relu(layer)\n",
        "   \n",
        "    return layer, weights\n"
      ],
      "execution_count": 0,
      "outputs": []
    },
    {
      "cell_type": "code",
      "metadata": {
        "id": "igzB8UGMzkKP",
        "colab_type": "code",
        "colab": {}
      },
      "source": [
        "def Logits_layer(input,               # The previous layer.\n",
        "                   num_input_channels, # Num. channels in prev. layer.\n",
        "                   filter_size,        # Width and height of each filter(or weights).\n",
        "                   num_filters):      # Number of filters./ or ouput channel\n",
        "\n",
        "    shape = [filter_size, filter_size, num_input_channels, num_filters]\n",
        "\n",
        " \n",
        "    weights = new_weights(shape=shape)\n",
        "\n",
        "  \n",
        "    biases = new_biases(length=num_filters)\n",
        "\n",
        "    layer = tf.nn.conv2d(input=input,\n",
        "                         filter=weights,\n",
        "                         strides=[1, 1, 1, 1],\n",
        "                         padding='SAME')\n",
        "\n",
        "    layer += biases\n",
        "\n",
        "    return layer, weights"
      ],
      "execution_count": 0,
      "outputs": []
    },
    {
      "cell_type": "code",
      "metadata": {
        "id": "X9XoamaNzmbl",
        "colab_type": "code",
        "colab": {}
      },
      "source": [
        "input_image = tf.placeholder(tf.float32, (None, 28, 28, 1), name='inputs')\n",
        "targets_ = tf.placeholder(tf.float32, (None, 28, 28, 1), name='targets') # Original image without noise to evaluate the gradient"
      ],
      "execution_count": 0,
      "outputs": []
    },
    {
      "cell_type": "code",
      "metadata": {
        "id": "SFkEF0n8zooM",
        "colab_type": "code",
        "colab": {}
      },
      "source": [
        "#First Encoder\n",
        "#The input has a dimention of 28x28x1\n",
        "E1, WE1 = new_encod_layer(input=input_image, \n",
        "                         num_input_channels=1,# Because input image is gray\n",
        "                         filter_size=10, # the weight matrix will be of size 10x10\n",
        "                         num_filters=10, # Number of output channel will be 10\n",
        "                         use_pooling=True)\n",
        "#output of the convolutional layer is 14x14x10 since the function max pool and stride at 2x2"
      ],
      "execution_count": 0,
      "outputs": []
    },
    {
      "cell_type": "code",
      "metadata": {
        "id": "Xigr38eEzq3M",
        "colab_type": "code",
        "colab": {}
      },
      "source": [
        "#2nd Encoder\n",
        "#The input has a dimention of 14x14x10\n",
        "E2, WE2 = new_encod_layer(input=E1, \n",
        "                         num_input_channels=10,\n",
        "                         filter_size=5, # the weight matrix will be of size 10x10\n",
        "                         num_filters=10, # No of output channel will be 10\n",
        "                         use_pooling=True)\n",
        "#output of the convolutional layer is of 7x7x10 since the function max pool and stride at 2x2"
      ],
      "execution_count": 0,
      "outputs": []
    },
    {
      "cell_type": "code",
      "metadata": {
        "id": "dFHB6ytLzsut",
        "colab_type": "code",
        "colab": {}
      },
      "source": [
        "# First Decoder\n",
        "# The input has a dimention of 7X7X10\n",
        "\n",
        "D1, WD1 = new_decod_layer(input=E2,       # The previous layer.\n",
        "                   num_input_channels=10, # Num. channels in prev. layer.\n",
        "                   filter_size=5,         # Width and height of each filter(or weights)\n",
        "                   num_filters=10,        # Number of filters./ No of output channel\n",
        "                   upsample_size=14,      # Upsampling size\n",
        "                   use_upsampling=True) \n",
        "#output of the convolutional layer is of 14x14x10 since the function has 14x14 upsampling"
      ],
      "execution_count": 0,
      "outputs": []
    },
    {
      "cell_type": "code",
      "metadata": {
        "id": "HPhjoaatzvN7",
        "colab_type": "code",
        "colab": {}
      },
      "source": [
        "# 2nd Decoder\n",
        "# The input has a dimention of 14X14X10\n",
        "\n",
        "D2, WD2 = new_decod_layer(input=D1,       # The previous layer.\n",
        "                   num_input_channels=10, # Num. channels in prev. layer.\n",
        "                   filter_size=10,         # Width and height of each filter(or weights)\n",
        "                   num_filters=10,        # Number of filters./ No of output channel\n",
        "                   upsample_size=28,      # Upsampling size\n",
        "                   use_upsampling=True) \n",
        "#output of the convolutional layer is of 28x28x10 since the function has 14x14 upsampling"
      ],
      "execution_count": 0,
      "outputs": []
    },
    {
      "cell_type": "code",
      "metadata": {
        "id": "1ThUjYhuzxSH",
        "colab_type": "code",
        "colab": {}
      },
      "source": [
        "# The input layer(D2) have a dimention of 28x28x10\n",
        "Logits_Layer_1, Logits_weights = Logits_layer(input=D2,              # The previous layer.\n",
        "                                              num_input_channels=10, # Num. channels in prev.(input) layer.\n",
        "                                              filter_size=10,        # Width and height of each filter(or weights).\n",
        "                                              num_filters=1)       # Number of filters./ or ouput channel"
      ],
      "execution_count": 0,
      "outputs": []
    },
    {
      "cell_type": "code",
      "metadata": {
        "id": "jisctV2dzzIF",
        "colab_type": "code",
        "colab": {}
      },
      "source": [
        "# Pass the Loggits through sigmoid to get the reconstructed  image\n",
        "Reconstructed_Image = tf.nn.sigmoid(Logits_Layer_1)"
      ],
      "execution_count": 0,
      "outputs": []
    },
    {
      "cell_type": "code",
      "metadata": {
        "id": "gsZIrDCkz089",
        "colab_type": "code",
        "outputId": "c2422303-7f70-4917-ecab-2ee2c9622f5d",
        "colab": {
          "base_uri": "https://localhost:8080/",
          "height": 88
        }
      },
      "source": [
        "# Generating the loss: \n",
        "\n",
        "# Pass logits through sigmoid and calculate the cross-entropy loss\n",
        "loss = tf.nn.sigmoid_cross_entropy_with_logits(labels=targets_, logits=Logits_Layer_1)\n",
        "#loss = tf.nn.softmax_cross_entropy_with_logits(labels=targets_, logits=Logits_Layer_1)"
      ],
      "execution_count": 0,
      "outputs": [
        {
          "output_type": "stream",
          "text": [
            "WARNING:tensorflow:From /usr/local/lib/python3.6/dist-packages/tensorflow/python/ops/nn_impl.py:180: add_dispatch_support.<locals>.wrapper (from tensorflow.python.ops.array_ops) is deprecated and will be removed in a future version.\n",
            "Instructions for updating:\n",
            "Use tf.where in 2.0, which has the same broadcast rule as np.where\n"
          ],
          "name": "stdout"
        }
      ]
    },
    {
      "cell_type": "code",
      "metadata": {
        "id": "lBzetDpYz28U",
        "colab_type": "code",
        "colab": {}
      },
      "source": [
        "# Design of Optimization method\n",
        "learning_rate = tf.placeholder(tf.float32)\n",
        "cost = tf.reduce_mean(loss)\n",
        "\n",
        "opt = tf.train.AdamOptimizer(learning_rate).minimize(cost)\n",
        "#opt = tf.train.RMSPropOptimizer(learning_rate).minimize(cost)"
      ],
      "execution_count": 0,
      "outputs": []
    },
    {
      "cell_type": "code",
      "metadata": {
        "id": "8QZkUpub0Aez",
        "colab_type": "code",
        "colab": {}
      },
      "source": [
        "sess = tf.Session()\n",
        "epochs = 1\n",
        "batch_size = 5\n",
        "# Set's how much noise we're adding to the MNIST images\n",
        "noise_factor = 0.7 # noise factor is in between 0 and 1. 0 is less and 1 is high\n",
        "sess.run(tf.global_variables_initializer())\n",
        "\n",
        "# Parameters for determining dynamic learning rate\n",
        "max_learning_rate = 0.001\n",
        "min_learning_rate = 0.0001\n",
        "decay_speed = 2000.0\n",
        "\n",
        "\n",
        "\n",
        "for e in range(epochs):\n",
        "    for ii in range(data.train.num_examples//batch_size): # Rounded division\n",
        "        lr= min_learning_rate + (max_learning_rate - min_learning_rate) * math.exp(-ii/decay_speed)\n",
        "        \n",
        "        batch = data.train.next_batch(batch_size)\n",
        "        # Get images from the batch\n",
        "        imgs = batch[0].reshape((-1, 28, 28, 1))\n",
        "        \n",
        "        # Add random noise to the input images\n",
        "        noisy_imgs = imgs + noise_factor * np.random.randn(*imgs.shape)\n",
        "        # Clip the images to be between 0 and 1\n",
        "        noisy_imgs = np.clip(noisy_imgs, 0., 1.)\n",
        "        \n",
        "        # Noisy images as inputs, original images as targets\n",
        "        batch_cost, _ = sess.run([cost, opt], feed_dict={input_image: noisy_imgs,targets_: imgs,learning_rate:lr})\n",
        "        print(\"Epoch: {}/{}...\".format(e+1, epochs),\"Training loss: {:.4f}\".format(batch_cost))"
      ],
      "execution_count": 0,
      "outputs": []
    },
    {
      "cell_type": "code",
      "metadata": {
        "id": "LJEHrMMS0Dvj",
        "colab_type": "code",
        "colab": {}
      },
      "source": [
        "def Test_model(batch_size):\n",
        "    n=batch_size\n",
        "    canvas_orig = np.empty((28 * n, 28 * n))\n",
        "    canvas_noisy = np.empty((28 * n, 28 * n))\n",
        "    canvas_recon = np.empty((28 * n, 28 * n))\n",
        "    for i in range(n):\n",
        "        # MNIST test set\n",
        "        batch,_  = data.test.next_batch(n)\n",
        "    \n",
        "        imgs = batch.reshape((-1, 28, 28, 1)) #original batch of test image\n",
        "        #noisy_imgs = imgs + noise_factor * np.random.randn(*imgs.shape)\n",
        "        noisy_imgs = imgs + 0.5 * np.random.randn(*imgs.shape)\n",
        "        # Clip the pixel values of the image in between 0.0 and 1.0\n",
        "        noisy_imgs = np.clip(noisy_imgs, 0., 1.)\n",
        "        \n",
        "        # Reconstruct the noisy image through the trined model(Encode and decode)\n",
        "        FIm=sess.run(Reconstructed_Image,feed_dict={input_image: noisy_imgs})\n",
        "\n",
        "        # Display original images\n",
        "        for j in range(n):\n",
        "            # Draw the original digit images\n",
        "            canvas_orig[i * 28:(i + 1) * 28, j * 28:(j + 1) * 28] = batch[j].reshape([28, 28])\n",
        "        #Display noisy image\n",
        "        for j in range(n):\n",
        "            # Draw the noisy digit images\n",
        "            canvas_noisy[i * 28:(i + 1) * 28, j * 28:(j + 1) * 28] = noisy_imgs[j].reshape([28, 28])\n",
        "        # Display reconstructed images\n",
        "        for j in range(n):\n",
        "            # Draw the reconstructed digit images\n",
        "            canvas_recon[i * 28:(i + 1) * 28, j * 28:(j + 1) * 28] = FIm[j].reshape([28, 28])\n",
        "\n",
        "    print(\"Original Images\")\n",
        "    plt.figure(figsize=(n, n))\n",
        "    plt.axis('off')\n",
        "    plt.imshow(canvas_orig, origin=\"upper\", cmap=\"gray\")\n",
        "    plt.show()\n",
        "\n",
        "    print(\"Noisy Images with noise factor of 0.5 as input\")\n",
        "    plt.figure(figsize=(n, n))\n",
        "    plt.axis('off')\n",
        "    plt.imshow(canvas_noisy, origin=\"upper\", cmap=\"gray\")\n",
        "    plt.show()\n",
        "    \n",
        "    print(\"Reconstructed Images from the noisy images\")\n",
        "    plt.figure(figsize=(n, n))\n",
        "    plt.axis('off')\n",
        "    plt.imshow(canvas_recon, origin=\"upper\", cmap=\"gray\")\n",
        "    plt.show()"
      ],
      "execution_count": 0,
      "outputs": []
    },
    {
      "cell_type": "code",
      "metadata": {
        "id": "a8Dj6c8X2pCd",
        "colab_type": "code",
        "outputId": "6d0480c5-9b42-4546-90b1-8f548bc562e1",
        "colab": {
          "base_uri": "https://localhost:8080/",
          "height": 986
        }
      },
      "source": [
        "Test_model(batch_size=5)"
      ],
      "execution_count": 0,
      "outputs": [
        {
          "output_type": "stream",
          "text": [
            "Original Images\n"
          ],
          "name": "stdout"
        },
        {
          "output_type": "display_data",
          "data": {
            "image/png": "[encoded data removed]",
            "text/plain": [
              "<Figure size 360x360 with 1 Axes>"
            ]
          },
          "metadata": {
            "tags": []
          }
        },
        {
          "output_type": "stream",
          "text": [
            "Noisy Images with noise factor of 0.5 as input\n"
          ],
          "name": "stdout"
        },
        {
          "output_type": "display_data",
          "data": {
            "image/png": "[encoded data removed]",
            "text/plain": [
              "<Figure size 360x360 with 1 Axes>"
            ]
          },
          "metadata": {
            "tags": []
          }
        },
        {
          "output_type": "stream",
          "text": [
            "Reconstructed Images from the noisy images\n"
          ],
          "name": "stdout"
        },
        {
          "output_type": "display_data",
          "data": {
            "image/png": "[encoded data removed]",
            "text/plain": [
              "<Figure size 360x360 with 1 Axes>"
            ]
          },
          "metadata": {
            "tags": []
          }
        }
      ]
    },
    {
      "cell_type": "code",
      "metadata": {
        "id": "fm0Y-vRS2r_Q",
        "colab_type": "code",
        "colab": {}
      },
      "source": [
        ""
      ],
      "execution_count": 0,
      "outputs": []
    }
  ]
}